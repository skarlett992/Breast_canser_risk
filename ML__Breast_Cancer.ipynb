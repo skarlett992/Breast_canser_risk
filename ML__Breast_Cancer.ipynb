{
  "nbformat": 4,
  "nbformat_minor": 0,
  "metadata": {
    "kernelspec": {
      "display_name": "Python 3",
      "language": "python",
      "name": "python3"
    },
    "language_info": {
      "codemirror_mode": {
        "name": "ipython",
        "version": 3
      },
      "file_extension": ".py",
      "mimetype": "text/x-python",
      "name": "python",
      "nbconvert_exporter": "python",
      "pygments_lexer": "ipython3",
      "version": "3.7.3"
    },
    "colab": {
      "name": "ML_ Breast_Cancer.ipynb",
      "provenance": [],
      "toc_visible": true
    }
  },
  "cells": [
    {
      "cell_type": "markdown",
      "metadata": {
        "id": "2M2JCJRymAMQ"
      },
      "source": [
        "#1. Determining the significance of the project\n",
        "\n",
        "\n",
        "\n"
      ]
    },
    {
      "cell_type": "markdown",
      "metadata": {
        "id": "DDqjXcmHmPqu"
      },
      "source": [
        "##1.1 Objective \n",
        "\n",
        "\n",
        "\n",
        "To predict the risk of developing breast cancer"
      ]
    },
    {
      "cell_type": "markdown",
      "metadata": {
        "id": "Ueb-fk4YodIb"
      },
      "source": [
        "##1.2 Description\n",
        "\n",
        "Breast cancer is the most common cancer among women in both developed and developing countries. The incidence of breast cancer in developing countries is on the rise due to rising life expectancy, further urbanization and an increasing acceptance of Western lifestyles. Breast cancer is the most common cancer among women in both developed and developing countries. The incidence of breast cancer in developing countries is increasing due to increasing life expectancy, further urbanization and the increasing acceptance of Western lifestyles.\n",
        "Any disease is better prevented than cured. Therefore, the creation of a model that predicts the possibility of developing breast cancer can help doctors predict the development of the disease in patients with a burdened history."
      ]
    },
    {
      "cell_type": "markdown",
      "metadata": {
        "id": "DFTQNML8t-wy"
      },
      "source": [
        "# 2. Data Understanding"
      ]
    },
    {
      "cell_type": "markdown",
      "metadata": {
        "id": "vTaZeFBzzRI5"
      },
      "source": [
        "##2.1 Import Libraries"
      ]
    },
    {
      "cell_type": "code",
      "metadata": {
        "id": "2hpZny02sOC_"
      },
      "source": [
        "import pandas as pd\n",
        "import seaborn as sns\n",
        "import matplotlib.pyplot as plt\n",
        "%matplotlib inline\n",
        "from sklearn.model_selection import train_test_split\n",
        "from xgboost import XGBClassifier\n",
        "from sklearn.metrics import auc, roc_curve, roc_auc_score, r2_score, mean_squared_error, mean_absolute_error\n"
      ],
      "execution_count": 2,
      "outputs": []
    },
    {
      "cell_type": "code",
      "metadata": {
        "colab": {
          "base_uri": "https://localhost:8080/"
        },
        "id": "oODrdK0VRzNn",
        "outputId": "1559060b-322f-4a9b-b6af-1894c8065b9a"
      },
      "source": [
        "from google.colab import drive\n",
        "drive.mount('/content/drive')"
      ],
      "execution_count": 4,
      "outputs": [
        {
          "output_type": "stream",
          "text": [
            "Mounted at /content/drive\n"
          ],
          "name": "stdout"
        }
      ]
    },
    {
      "cell_type": "markdown",
      "metadata": {
        "id": "dapL0jyADXWH"
      },
      "source": [
        "##2.2 Loading data. Statistics. Visualization"
      ]
    },
    {
      "cell_type": "code",
      "metadata": {
        "scrolled": true,
        "id": "xwSjI2jcsODC",
        "colab": {
          "base_uri": "https://localhost:8080/",
          "height": 204
        },
        "outputId": "e0acc167-6c1c-428c-f0cc-8ad3292904d8"
      },
      "source": [
        "df = pd.read_csv('/content/drive/MyDrive/test_tasks/gail_model_task/gail_feature.csv')\n",
        "df.head()"
      ],
      "execution_count": 6,
      "outputs": [
        {
          "output_type": "execute_result",
          "data": {
            "text/html": [
              "<div>\n",
              "<style scoped>\n",
              "    .dataframe tbody tr th:only-of-type {\n",
              "        vertical-align: middle;\n",
              "    }\n",
              "\n",
              "    .dataframe tbody tr th {\n",
              "        vertical-align: top;\n",
              "    }\n",
              "\n",
              "    .dataframe thead th {\n",
              "        text-align: right;\n",
              "    }\n",
              "</style>\n",
              "<table border=\"1\" class=\"dataframe\">\n",
              "  <thead>\n",
              "    <tr style=\"text-align: right;\">\n",
              "      <th></th>\n",
              "      <th>study_id</th>\n",
              "      <th>phx_brca_test</th>\n",
              "      <th>ccr_LCIS</th>\n",
              "      <th>T1</th>\n",
              "      <th>N_Biop</th>\n",
              "      <th>HypPlas</th>\n",
              "      <th>AgeMen</th>\n",
              "      <th>Age1st</th>\n",
              "      <th>N_Rels</th>\n",
              "      <th>status</th>\n",
              "      <th>Race</th>\n",
              "    </tr>\n",
              "  </thead>\n",
              "  <tbody>\n",
              "    <tr>\n",
              "      <th>0</th>\n",
              "      <td>0</td>\n",
              "      <td>0</td>\n",
              "      <td>0</td>\n",
              "      <td>45</td>\n",
              "      <td>99</td>\n",
              "      <td>99</td>\n",
              "      <td>13</td>\n",
              "      <td>22</td>\n",
              "      <td>1</td>\n",
              "      <td>0</td>\n",
              "      <td>3</td>\n",
              "    </tr>\n",
              "    <tr>\n",
              "      <th>1</th>\n",
              "      <td>1</td>\n",
              "      <td>0</td>\n",
              "      <td>0</td>\n",
              "      <td>60</td>\n",
              "      <td>1</td>\n",
              "      <td>0</td>\n",
              "      <td>11</td>\n",
              "      <td>19</td>\n",
              "      <td>0</td>\n",
              "      <td>0</td>\n",
              "      <td>2</td>\n",
              "    </tr>\n",
              "    <tr>\n",
              "      <th>2</th>\n",
              "      <td>2</td>\n",
              "      <td>0</td>\n",
              "      <td>0</td>\n",
              "      <td>75</td>\n",
              "      <td>0</td>\n",
              "      <td>99</td>\n",
              "      <td>13</td>\n",
              "      <td>98</td>\n",
              "      <td>0</td>\n",
              "      <td>0</td>\n",
              "      <td>3</td>\n",
              "    </tr>\n",
              "    <tr>\n",
              "      <th>3</th>\n",
              "      <td>3</td>\n",
              "      <td>0</td>\n",
              "      <td>0</td>\n",
              "      <td>74</td>\n",
              "      <td>0</td>\n",
              "      <td>99</td>\n",
              "      <td>12</td>\n",
              "      <td>22</td>\n",
              "      <td>0</td>\n",
              "      <td>1</td>\n",
              "      <td>1</td>\n",
              "    </tr>\n",
              "    <tr>\n",
              "      <th>4</th>\n",
              "      <td>4</td>\n",
              "      <td>0</td>\n",
              "      <td>0</td>\n",
              "      <td>65</td>\n",
              "      <td>0</td>\n",
              "      <td>99</td>\n",
              "      <td>17</td>\n",
              "      <td>98</td>\n",
              "      <td>1</td>\n",
              "      <td>0</td>\n",
              "      <td>1</td>\n",
              "    </tr>\n",
              "  </tbody>\n",
              "</table>\n",
              "</div>"
            ],
            "text/plain": [
              "   study_id  phx_brca_test  ccr_LCIS  T1  ...  Age1st  N_Rels  status  Race\n",
              "0         0              0         0  45  ...      22       1       0     3\n",
              "1         1              0         0  60  ...      19       0       0     2\n",
              "2         2              0         0  75  ...      98       0       0     3\n",
              "3         3              0         0  74  ...      22       0       1     1\n",
              "4         4              0         0  65  ...      98       1       0     1\n",
              "\n",
              "[5 rows x 11 columns]"
            ]
          },
          "metadata": {
            "tags": []
          },
          "execution_count": 6
        }
      ]
    },
    {
      "cell_type": "markdown",
      "metadata": {
        "id": "Tta4UieqDwGQ"
      },
      "source": [
        "###2.2.1 Description of variables"
      ]
    },
    {
      "cell_type": "markdown",
      "metadata": {
        "id": "x2NefrISD4MX"
      },
      "source": [
        "AgeMen: First menstrual period \n",
        "\n",
        "Age1st: First live birth \n",
        "\n",
        "N_Rels: First-degree relatives with breast cancer \n",
        "\n",
        "N_Biop: Previous breast biopsy  \n",
        "\n",
        "Race: Race\n",
        "\n",
        "ccr_LCIS: Does the woman have a medical history of any breast cancer or of ductal carcinoma in situ (DCIS) or lobular carcinoma in situ (LCIS) or has she received previous radiation therapy to the chest for treatment of Hodgkin lymphoma? \n",
        "\n",
        "phx_brca_test: Does the woman have a mutation in either the BRCA1 or BRCA2 gene, or a diagnosis of a genetic syndrome that may be associated with elevated risk of breast cancer?\n",
        "\n",
        "T1: Age at test\n",
        "\n",
        "HypPlas: Has the patient ever had a breast biopsy with atypical hyperplasia?\n",
        "\n",
        "Status: Breast Cancer Status"
      ]
    },
    {
      "cell_type": "markdown",
      "metadata": {
        "id": "stwHq6He5dPp"
      },
      "source": [
        "### 2.2.2 Let's take a look at the key information"
      ]
    },
    {
      "cell_type": "code",
      "metadata": {
        "scrolled": true,
        "id": "D3FP07x3sODJ",
        "colab": {
          "base_uri": "https://localhost:8080/"
        },
        "outputId": "4d359ab3-a195-4a33-c349-8f243d254932"
      },
      "source": [
        "df.info()"
      ],
      "execution_count": 7,
      "outputs": [
        {
          "output_type": "stream",
          "text": [
            "<class 'pandas.core.frame.DataFrame'>\n",
            "RangeIndex: 14055 entries, 0 to 14054\n",
            "Data columns (total 11 columns):\n",
            " #   Column         Non-Null Count  Dtype\n",
            "---  ------         --------------  -----\n",
            " 0   study_id       14055 non-null  int64\n",
            " 1   phx_brca_test  14055 non-null  int64\n",
            " 2   ccr_LCIS       14055 non-null  int64\n",
            " 3   T1             14055 non-null  int64\n",
            " 4   N_Biop         14055 non-null  int64\n",
            " 5   HypPlas        14055 non-null  int64\n",
            " 6   AgeMen         14055 non-null  int64\n",
            " 7   Age1st         14055 non-null  int64\n",
            " 8   N_Rels         14055 non-null  int64\n",
            " 9   status         14055 non-null  int64\n",
            " 10  Race           14055 non-null  int64\n",
            "dtypes: int64(11)\n",
            "memory usage: 1.2 MB\n"
          ],
          "name": "stdout"
        }
      ]
    },
    {
      "cell_type": "markdown",
      "metadata": {
        "id": "lEgPD5uBEf_Y"
      },
      "source": [
        "We found that we have data on 14055 patients. There are no missing values. In all lines, the variable type is int 64."
      ]
    },
    {
      "cell_type": "code",
      "metadata": {
        "scrolled": false,
        "id": "aAprXQJxsODN",
        "colab": {
          "base_uri": "https://localhost:8080/",
          "height": 390
        },
        "outputId": "4d0ab531-92ad-4c49-b86c-649052598143"
      },
      "source": [
        "df.describe().transpose()"
      ],
      "execution_count": 8,
      "outputs": [
        {
          "output_type": "execute_result",
          "data": {
            "text/html": [
              "<div>\n",
              "<style scoped>\n",
              "    .dataframe tbody tr th:only-of-type {\n",
              "        vertical-align: middle;\n",
              "    }\n",
              "\n",
              "    .dataframe tbody tr th {\n",
              "        vertical-align: top;\n",
              "    }\n",
              "\n",
              "    .dataframe thead th {\n",
              "        text-align: right;\n",
              "    }\n",
              "</style>\n",
              "<table border=\"1\" class=\"dataframe\">\n",
              "  <thead>\n",
              "    <tr style=\"text-align: right;\">\n",
              "      <th></th>\n",
              "      <th>count</th>\n",
              "      <th>mean</th>\n",
              "      <th>std</th>\n",
              "      <th>min</th>\n",
              "      <th>25%</th>\n",
              "      <th>50%</th>\n",
              "      <th>75%</th>\n",
              "      <th>max</th>\n",
              "    </tr>\n",
              "  </thead>\n",
              "  <tbody>\n",
              "    <tr>\n",
              "      <th>study_id</th>\n",
              "      <td>14055.0</td>\n",
              "      <td>7027.000000</td>\n",
              "      <td>4057.473352</td>\n",
              "      <td>0.0</td>\n",
              "      <td>3513.5</td>\n",
              "      <td>7027.0</td>\n",
              "      <td>10540.5</td>\n",
              "      <td>14054.0</td>\n",
              "    </tr>\n",
              "    <tr>\n",
              "      <th>phx_brca_test</th>\n",
              "      <td>14055.0</td>\n",
              "      <td>0.049235</td>\n",
              "      <td>0.255567</td>\n",
              "      <td>0.0</td>\n",
              "      <td>0.0</td>\n",
              "      <td>0.0</td>\n",
              "      <td>0.0</td>\n",
              "      <td>3.0</td>\n",
              "    </tr>\n",
              "    <tr>\n",
              "      <th>ccr_LCIS</th>\n",
              "      <td>14055.0</td>\n",
              "      <td>0.001067</td>\n",
              "      <td>0.032652</td>\n",
              "      <td>0.0</td>\n",
              "      <td>0.0</td>\n",
              "      <td>0.0</td>\n",
              "      <td>0.0</td>\n",
              "      <td>1.0</td>\n",
              "    </tr>\n",
              "    <tr>\n",
              "      <th>T1</th>\n",
              "      <td>14055.0</td>\n",
              "      <td>55.158307</td>\n",
              "      <td>11.651419</td>\n",
              "      <td>14.0</td>\n",
              "      <td>46.0</td>\n",
              "      <td>54.0</td>\n",
              "      <td>63.0</td>\n",
              "      <td>95.0</td>\n",
              "    </tr>\n",
              "    <tr>\n",
              "      <th>N_Biop</th>\n",
              "      <td>14055.0</td>\n",
              "      <td>11.115048</td>\n",
              "      <td>30.724288</td>\n",
              "      <td>0.0</td>\n",
              "      <td>0.0</td>\n",
              "      <td>0.0</td>\n",
              "      <td>1.0</td>\n",
              "      <td>99.0</td>\n",
              "    </tr>\n",
              "    <tr>\n",
              "      <th>HypPlas</th>\n",
              "      <td>14055.0</td>\n",
              "      <td>80.961580</td>\n",
              "      <td>38.197899</td>\n",
              "      <td>0.0</td>\n",
              "      <td>99.0</td>\n",
              "      <td>99.0</td>\n",
              "      <td>99.0</td>\n",
              "      <td>99.0</td>\n",
              "    </tr>\n",
              "    <tr>\n",
              "      <th>AgeMen</th>\n",
              "      <td>14055.0</td>\n",
              "      <td>15.261473</td>\n",
              "      <td>14.050105</td>\n",
              "      <td>9.0</td>\n",
              "      <td>12.0</td>\n",
              "      <td>13.0</td>\n",
              "      <td>14.0</td>\n",
              "      <td>99.0</td>\n",
              "    </tr>\n",
              "    <tr>\n",
              "      <th>Age1st</th>\n",
              "      <td>14055.0</td>\n",
              "      <td>39.935966</td>\n",
              "      <td>29.496525</td>\n",
              "      <td>11.0</td>\n",
              "      <td>22.0</td>\n",
              "      <td>27.0</td>\n",
              "      <td>35.0</td>\n",
              "      <td>99.0</td>\n",
              "    </tr>\n",
              "    <tr>\n",
              "      <th>N_Rels</th>\n",
              "      <td>14055.0</td>\n",
              "      <td>0.990110</td>\n",
              "      <td>9.033852</td>\n",
              "      <td>0.0</td>\n",
              "      <td>0.0</td>\n",
              "      <td>0.0</td>\n",
              "      <td>0.0</td>\n",
              "      <td>99.0</td>\n",
              "    </tr>\n",
              "    <tr>\n",
              "      <th>status</th>\n",
              "      <td>14055.0</td>\n",
              "      <td>0.082319</td>\n",
              "      <td>0.274861</td>\n",
              "      <td>0.0</td>\n",
              "      <td>0.0</td>\n",
              "      <td>0.0</td>\n",
              "      <td>0.0</td>\n",
              "      <td>1.0</td>\n",
              "    </tr>\n",
              "    <tr>\n",
              "      <th>Race</th>\n",
              "      <td>14055.0</td>\n",
              "      <td>2.319957</td>\n",
              "      <td>1.809918</td>\n",
              "      <td>0.0</td>\n",
              "      <td>1.0</td>\n",
              "      <td>3.0</td>\n",
              "      <td>3.0</td>\n",
              "      <td>9.0</td>\n",
              "    </tr>\n",
              "  </tbody>\n",
              "</table>\n",
              "</div>"
            ],
            "text/plain": [
              "                 count         mean          std  ...     50%      75%      max\n",
              "study_id       14055.0  7027.000000  4057.473352  ...  7027.0  10540.5  14054.0\n",
              "phx_brca_test  14055.0     0.049235     0.255567  ...     0.0      0.0      3.0\n",
              "ccr_LCIS       14055.0     0.001067     0.032652  ...     0.0      0.0      1.0\n",
              "T1             14055.0    55.158307    11.651419  ...    54.0     63.0     95.0\n",
              "N_Biop         14055.0    11.115048    30.724288  ...     0.0      1.0     99.0\n",
              "HypPlas        14055.0    80.961580    38.197899  ...    99.0     99.0     99.0\n",
              "AgeMen         14055.0    15.261473    14.050105  ...    13.0     14.0     99.0\n",
              "Age1st         14055.0    39.935966    29.496525  ...    27.0     35.0     99.0\n",
              "N_Rels         14055.0     0.990110     9.033852  ...     0.0      0.0     99.0\n",
              "status         14055.0     0.082319     0.274861  ...     0.0      0.0      1.0\n",
              "Race           14055.0     2.319957     1.809918  ...     3.0      3.0      9.0\n",
              "\n",
              "[11 rows x 8 columns]"
            ]
          },
          "metadata": {
            "tags": []
          },
          "execution_count": 8
        }
      ]
    },
    {
      "cell_type": "markdown",
      "metadata": {
        "id": "7tAFhaOFsODS"
      },
      "source": [
        "Interesting information that the maximum age of the first birth and first menstruation is 99 years. Since this cannot be a priori from a medical point of view, we come to the conclusion that the data has already been cleared and the missing values ​​are filled in in the maximum values ​​of the first menstruation and the first birth - the number 99.\n"
      ]
    },
    {
      "cell_type": "markdown",
      "metadata": {
        "id": "eWER8SdhFtIb"
      },
      "source": [
        "Let's look at possible signs of the menarhe of patients."
      ]
    },
    {
      "cell_type": "code",
      "metadata": {
        "id": "OtqGQMMhsODW",
        "colab": {
          "base_uri": "https://localhost:8080/"
        },
        "outputId": "f3acb0e4-f7c1-46b5-ad74-962122c47e94"
      },
      "source": [
        "df['AgeMen'].value_counts()\n"
      ],
      "execution_count": 9,
      "outputs": [
        {
          "output_type": "execute_result",
          "data": {
            "text/plain": [
              "13    3668\n",
              "12    3216\n",
              "14    2215\n",
              "11    1596\n",
              "15    1330\n",
              "16     602\n",
              "10     512\n",
              "99     380\n",
              "17     314\n",
              "9      222\n",
              "Name: AgeMen, dtype: int64"
            ]
          },
          "metadata": {
            "tags": []
          },
          "execution_count": 9
        }
      ]
    },
    {
      "cell_type": "markdown",
      "metadata": {
        "id": "kUD8tM3nF5d5"
      },
      "source": [
        "So we can see that the late first menstruation began in 314 patients in 17 years old. Very early menarche at 9 years old  in 222 women. Also, in 380 patients, the age of the onset of menstruation is unknown."
      ]
    },
    {
      "cell_type": "markdown",
      "metadata": {
        "id": "NOYW35cs-7-U"
      },
      "source": [
        "Let's take a look at the age of first birth of the studied women."
      ]
    },
    {
      "cell_type": "code",
      "metadata": {
        "id": "tEtNCK8-sODa",
        "colab": {
          "base_uri": "https://localhost:8080/"
        },
        "outputId": "ce16ec49-9652-4f2f-ea59-60608199764a"
      },
      "source": [
        "df['Age1st'].value_counts()\n"
      ],
      "execution_count": 10,
      "outputs": [
        {
          "output_type": "execute_result",
          "data": {
            "text/plain": [
              "98    2520\n",
              "22    1656\n",
              "19    1313\n",
              "27    1298\n",
              "34     926\n",
              "20     498\n",
              "21     418\n",
              "25     415\n",
              "26     410\n",
              "24     401\n",
              "23     386\n",
              "29     384\n",
              "28     373\n",
              "30     360\n",
              "18     353\n",
              "17     285\n",
              "99     278\n",
              "31     271\n",
              "32     241\n",
              "33     222\n",
              "35     168\n",
              "16     155\n",
              "36     154\n",
              "40     104\n",
              "38      96\n",
              "37      94\n",
              "15      78\n",
              "39      68\n",
              "41      32\n",
              "14      24\n",
              "42      23\n",
              "43      15\n",
              "45      12\n",
              "47       6\n",
              "13       5\n",
              "44       5\n",
              "48       2\n",
              "11       2\n",
              "12       2\n",
              "50       1\n",
              "46       1\n",
              "Name: Age1st, dtype: int64"
            ]
          },
          "metadata": {
            "tags": []
          },
          "execution_count": 10
        }
      ]
    },
    {
      "cell_type": "markdown",
      "metadata": {
        "id": "8SCp0K3XWbl6"
      },
      "source": [
        "The fact of the presence of very late first births is alarming (Age 50 - 1 woman, age 48 - 2 women, age 47 - 3 women, age 45 - 12 women, age 42 - 23 women). Although, it is possible that these women resorted to assisted reproductive technologies. \n",
        "There were also very early first births. 2 women gave birth for the first time at 11 years old, 2 at 12, 5 at 13 years old.\n",
        "Also, 2798 women did not remember the age when they had their first birth."
      ]
    },
    {
      "cell_type": "markdown",
      "metadata": {
        "id": "W4PTx8JZYGv2"
      },
      "source": [
        "Let's look at the number of relatives with breast cancer."
      ]
    },
    {
      "cell_type": "code",
      "metadata": {
        "scrolled": false,
        "id": "irRUjeHEsODd",
        "colab": {
          "base_uri": "https://localhost:8080/"
        },
        "outputId": "d865af46-bb6c-4c72-9a5e-2f7c27d50a8f"
      },
      "source": [
        "df['N_Rels'].value_counts()"
      ],
      "execution_count": 11,
      "outputs": [
        {
          "output_type": "execute_result",
          "data": {
            "text/plain": [
              "0     11959\n",
              "1      1781\n",
              "2       179\n",
              "99      118\n",
              "3        15\n",
              "39        1\n",
              "6         1\n",
              "5         1\n",
              "Name: N_Rels, dtype: int64"
            ]
          },
          "metadata": {
            "tags": []
          },
          "execution_count": 11
        }
      ]
    },
    {
      "cell_type": "markdown",
      "metadata": {
        "id": "Ju19Ew2SY4Mh"
      },
      "source": [
        "We see that the majority of women did not have any relatives with breast cancer. However, we also see that 15 women had 3 relatives each with breast cancer. Also, women had 5 and 6 relatives with breast cancer. The variant of a woman with 39 relatives suffering from cancer is obviously a mistake."
      ]
    },
    {
      "cell_type": "markdown",
      "metadata": {
        "id": "9aB3iMCCZC7y"
      },
      "source": [
        "Let's look at the number of breast biopsies in female patients."
      ]
    },
    {
      "cell_type": "code",
      "metadata": {
        "scrolled": false,
        "id": "7yBlNH1asODg",
        "colab": {
          "base_uri": "https://localhost:8080/"
        },
        "outputId": "180b0907-df54-440e-9501-c685773196d3"
      },
      "source": [
        "df['N_Biop'].value_counts()"
      ],
      "execution_count": 12,
      "outputs": [
        {
          "output_type": "execute_result",
          "data": {
            "text/plain": [
              "0     9200\n",
              "1     1898\n",
              "99    1530\n",
              "2     1427\n",
              "Name: N_Biop, dtype: int64"
            ]
          },
          "metadata": {
            "tags": []
          },
          "execution_count": 12
        }
      ]
    },
    {
      "cell_type": "markdown",
      "metadata": {
        "id": "5lkmNkVqb4m6"
      },
      "source": [
        "We can see that the majority of women have not had previous breast biopsies."
      ]
    },
    {
      "cell_type": "markdown",
      "metadata": {
        "id": "gnqF8oxKcD8A"
      },
      "source": [
        "Let's take a look at the distribution of women by race."
      ]
    },
    {
      "cell_type": "code",
      "metadata": {
        "id": "VfvXyrujsODl",
        "colab": {
          "base_uri": "https://localhost:8080/"
        },
        "outputId": "1c35137e-2ea3-44da-b050-613818303bea"
      },
      "source": [
        "df['Race'].value_counts()"
      ],
      "execution_count": 13,
      "outputs": [
        {
          "output_type": "execute_result",
          "data": {
            "text/plain": [
              "1    5565\n",
              "3    5120\n",
              "0    1190\n",
              "4     741\n",
              "6     633\n",
              "8     386\n",
              "2     224\n",
              "7     190\n",
              "9       6\n",
              "Name: Race, dtype: int64"
            ]
          },
          "metadata": {
            "tags": []
          },
          "execution_count": 13
        }
      ]
    },
    {
      "cell_type": "markdown",
      "metadata": {
        "id": "eN6-PEOycJv8"
      },
      "source": [
        "Can't comment"
      ]
    },
    {
      "cell_type": "markdown",
      "metadata": {
        "id": "h1ysvwYLcdLW"
      },
      "source": [
        "Let's see if women have a history of lobular breast cancer."
      ]
    },
    {
      "cell_type": "code",
      "metadata": {
        "id": "MuHqRQR_sODo",
        "colab": {
          "base_uri": "https://localhost:8080/"
        },
        "outputId": "6cb91afb-e15d-4ccf-e239-4ae296c178d7"
      },
      "source": [
        "df['ccr_LCIS'].value_counts()"
      ],
      "execution_count": 14,
      "outputs": [
        {
          "output_type": "execute_result",
          "data": {
            "text/plain": [
              "0    14040\n",
              "1       15\n",
              "Name: ccr_LCIS, dtype: int64"
            ]
          },
          "metadata": {
            "tags": []
          },
          "execution_count": 14
        }
      ]
    },
    {
      "cell_type": "markdown",
      "metadata": {
        "id": "KCpXi3Bncgj6"
      },
      "source": [
        "15 women already had breast cancer."
      ]
    },
    {
      "cell_type": "markdown",
      "metadata": {
        "id": "fjRO3dCIcz0_"
      },
      "source": [
        "Let's see if women have a mutation in their BRCA 1 and BRCA 2 genes."
      ]
    },
    {
      "cell_type": "code",
      "metadata": {
        "id": "urHp6hHqsODq",
        "colab": {
          "base_uri": "https://localhost:8080/"
        },
        "outputId": "96aa1867-a229-42dc-ee2f-196ba5e4e08c"
      },
      "source": [
        "df['phx_brca_test'].value_counts()\n"
      ],
      "execution_count": 15,
      "outputs": [
        {
          "output_type": "execute_result",
          "data": {
            "text/plain": [
              "0    13457\n",
              "1      540\n",
              "3       36\n",
              "2       22\n",
              "Name: phx_brca_test, dtype: int64"
            ]
          },
          "metadata": {
            "tags": []
          },
          "execution_count": 15
        }
      ]
    },
    {
      "cell_type": "markdown",
      "metadata": {
        "id": "KetkMv9hdCgI"
      },
      "source": [
        "540 women had mutation in BRCA1 gene, 22 women had a gene mutation in BRCA2. But more women had no mutations at all."
      ]
    },
    {
      "cell_type": "markdown",
      "metadata": {
        "id": "h-9hvkJFjIJ1"
      },
      "source": [
        "Let's look at the presence of atypical hyperplasia in the breast."
      ]
    },
    {
      "cell_type": "code",
      "metadata": {
        "id": "Ry83R-5jjHUl",
        "colab": {
          "base_uri": "https://localhost:8080/"
        },
        "outputId": "e5e6977b-4657-4319-f8a0-cc31170d4024"
      },
      "source": [
        "df['HypPlas'].value_counts()"
      ],
      "execution_count": 16,
      "outputs": [
        {
          "output_type": "execute_result",
          "data": {
            "text/plain": [
              "99    11492\n",
              "0      2356\n",
              "1       207\n",
              "Name: HypPlas, dtype: int64"
            ]
          },
          "metadata": {
            "tags": []
          },
          "execution_count": 16
        }
      ]
    },
    {
      "cell_type": "markdown",
      "metadata": {
        "id": "sr4aU6WTjvk2"
      },
      "source": [
        "Many missing values. It cannot be said that it strongly influences the model."
      ]
    },
    {
      "cell_type": "markdown",
      "metadata": {
        "id": "HrVALyubdje9"
      },
      "source": [
        "Let's take a look at the age of women who come to the appointment for breast cancer."
      ]
    },
    {
      "cell_type": "code",
      "metadata": {
        "id": "AvqnekAOsODt",
        "colab": {
          "base_uri": "https://localhost:8080/"
        },
        "outputId": "2ce8f2de-8150-48e5-d9b7-7911f1803277"
      },
      "source": [
        "df['T1'].value_counts()"
      ],
      "execution_count": 17,
      "outputs": [
        {
          "output_type": "execute_result",
          "data": {
            "text/plain": [
              "40    601\n",
              "41    503\n",
              "45    465\n",
              "44    460\n",
              "43    460\n",
              "     ... \n",
              "92      1\n",
              "14      1\n",
              "94      1\n",
              "15      1\n",
              "95      1\n",
              "Name: T1, Length: 80, dtype: int64"
            ]
          },
          "metadata": {
            "tags": []
          },
          "execution_count": 17
        }
      ]
    },
    {
      "cell_type": "markdown",
      "metadata": {
        "id": "65CFBQhFeCRZ"
      },
      "source": [
        "We see that the majority of women are over the age of 40. BC variant was encountered three times in elderly patients (92, 94, 95 years old).\n",
        "It is also worth noting that breast cancer was found in one woman of 14 years old, and one woman of 15 years old."
      ]
    },
    {
      "cell_type": "markdown",
      "metadata": {
        "id": "CKh_vgYCeYiJ"
      },
      "source": [
        "Checking empty voids "
      ]
    },
    {
      "cell_type": "code",
      "metadata": {
        "id": "gabb5OPUsODy",
        "colab": {
          "base_uri": "https://localhost:8080/",
          "height": 49
        },
        "outputId": "7a0ecae6-8406-417a-f5ff-c24eb652d7a6"
      },
      "source": [
        "df[df['T1']==98]"
      ],
      "execution_count": 18,
      "outputs": [
        {
          "output_type": "execute_result",
          "data": {
            "text/html": [
              "<div>\n",
              "<style scoped>\n",
              "    .dataframe tbody tr th:only-of-type {\n",
              "        vertical-align: middle;\n",
              "    }\n",
              "\n",
              "    .dataframe tbody tr th {\n",
              "        vertical-align: top;\n",
              "    }\n",
              "\n",
              "    .dataframe thead th {\n",
              "        text-align: right;\n",
              "    }\n",
              "</style>\n",
              "<table border=\"1\" class=\"dataframe\">\n",
              "  <thead>\n",
              "    <tr style=\"text-align: right;\">\n",
              "      <th></th>\n",
              "      <th>study_id</th>\n",
              "      <th>phx_brca_test</th>\n",
              "      <th>ccr_LCIS</th>\n",
              "      <th>T1</th>\n",
              "      <th>N_Biop</th>\n",
              "      <th>HypPlas</th>\n",
              "      <th>AgeMen</th>\n",
              "      <th>Age1st</th>\n",
              "      <th>N_Rels</th>\n",
              "      <th>status</th>\n",
              "      <th>Race</th>\n",
              "    </tr>\n",
              "  </thead>\n",
              "  <tbody>\n",
              "  </tbody>\n",
              "</table>\n",
              "</div>"
            ],
            "text/plain": [
              "Empty DataFrame\n",
              "Columns: [study_id, phx_brca_test, ccr_LCIS, T1, N_Biop, HypPlas, AgeMen, Age1st, N_Rels, status, Race]\n",
              "Index: []"
            ]
          },
          "metadata": {
            "tags": []
          },
          "execution_count": 18
        }
      ]
    },
    {
      "cell_type": "markdown",
      "metadata": {
        "id": "LoRzgv_uGPX-"
      },
      "source": [
        "In my opinion, there are not enough signs. A more accurate picture of the predisposition to the development of breast cancer would be in the presence of information about:\n",
        "\n",
        "*   Taking hormonal contraceptives\n",
        "*   Hormone replacement therapy\n",
        "*   Overweight, obesity\n",
        "*   Diabetes, Diseases of the thyroid gland\n",
        "*\t  Endometrial hyperplasia, endometrial polyps\n",
        "*\t  Cosmetic surgery (breast augmentation, lip augmentation)\n",
        "*   Alcohol consumption\n",
        "*   Eating fast food\n",
        "*  \tInfluence of the environment\n",
        "*   Pregnancies that ended in abortion\n",
        "*  \tRefusal to breastfeed\n",
        "*  \tAge of sexual debut\n",
        "* \tUsing of deodorants, sunscreens (EDCs)\n",
        "* \tSmoking\n",
        "*  \tPhysical inactivity\n",
        "* \tInfectious diseases\n",
        "* \tViolations of the daily routine\n",
        "\n",
        "We can also include a number of studies related to breast ultrasound, mammography and MRI results.\n"
      ]
    },
    {
      "cell_type": "markdown",
      "metadata": {
        "id": "5vbWGPKTgfAH"
      },
      "source": [
        "Now let's look at the presence of breast cancer."
      ]
    },
    {
      "cell_type": "code",
      "metadata": {
        "id": "4BixTg3fsOD0",
        "colab": {
          "base_uri": "https://localhost:8080/"
        },
        "outputId": "dcaf5d03-4af9-424c-e614-2210f0619380"
      },
      "source": [
        "df['status'].value_counts()"
      ],
      "execution_count": 19,
      "outputs": [
        {
          "output_type": "execute_result",
          "data": {
            "text/plain": [
              "0    12898\n",
              "1     1157\n",
              "Name: status, dtype: int64"
            ]
          },
          "metadata": {
            "tags": []
          },
          "execution_count": 19
        }
      ]
    },
    {
      "cell_type": "markdown",
      "metadata": {
        "id": "fBa-2OLPgpsC"
      },
      "source": [
        "We see that 12898 people are healthy, and 1157 with cancer."
      ]
    },
    {
      "cell_type": "markdown",
      "metadata": {
        "id": "CT5Kfy_IhHLM"
      },
      "source": [
        "##2.3 Visualization"
      ]
    },
    {
      "cell_type": "markdown",
      "metadata": {
        "id": "5FIBUyEPsOD5"
      },
      "source": [
        "Let's build graphs to track dependencies."
      ]
    },
    {
      "cell_type": "code",
      "metadata": {
        "id": "kHXIYyR4GW9O"
      },
      "source": [
        "df1 = df[df['AgeMen']<20]"
      ],
      "execution_count": 20,
      "outputs": []
    },
    {
      "cell_type": "code",
      "metadata": {
        "id": "_f68OjgDGLAM",
        "colab": {
          "base_uri": "https://localhost:8080/",
          "height": 258
        },
        "outputId": "3b08a9b6-328d-4d79-d61a-4bed642deab4"
      },
      "source": [
        "plt.figure(figsize=(25,5))\n",
        "sns.boxplot(y=df1['AgeMen'], x=df['N_Rels']) "
      ],
      "execution_count": 21,
      "outputs": [
        {
          "output_type": "execute_result",
          "data": {
            "text/plain": [
              "<matplotlib.axes._subplots.AxesSubplot at 0x7f8c22f09d30>"
            ]
          },
          "metadata": {
            "tags": []
          },
          "execution_count": 21
        },
        {
          "output_type": "display_data",
          "data": {
            "image/png": "[encoded data removed]",
            "text/plain": [
              "<Figure size 1800x360 with 1 Axes>"
            ]
          },
          "metadata": {
            "tags": [],
            "needs_background": "light"
          }
        }
      ]
    },
    {
      "cell_type": "code",
      "metadata": {
        "scrolled": false,
        "id": "v2DkKao_sOD6",
        "colab": {
          "base_uri": "https://localhost:8080/",
          "height": 1000
        },
        "outputId": "77bf48e4-1f47-4bda-c485-0c151085f876"
      },
      "source": [
        "plt.figure(figsize=(25,5))\n",
        "sns.boxplot(y=df['T1'], x=df['phx_brca_test']) \n",
        "   \n",
        "plt.figure(figsize=(17,3))\n",
        "sns.boxplot(y=df['T1'], x=df['ccr_LCIS']) \n",
        "\n",
        "plt.figure(figsize=(17,3))\n",
        "sns.boxplot(y=df['T1'], x=df['N_Biop']) \n",
        "\n",
        "plt.figure(figsize=(17,3))\n",
        "sns.boxplot(y=df['T1'], x=df['HypPlas']) \n",
        "\n",
        "plt.figure(figsize=(17,3))\n",
        "sns.boxplot(y=df['T1'], x=df['AgeMen']) \n",
        "\n",
        "plt.figure(figsize=(17,3))\n",
        "sns.boxplot(y=df['T1'], x=df['Age1st'])\n",
        "\n",
        "plt.figure(figsize=(17,3))\n",
        "sns.boxplot(y=df['T1'], x=df['N_Rels']) \n",
        "plt.figure(figsize=(17,3))\n",
        "sns.boxplot(y=df['T1'], x=df['Race']) \n",
        "plt.figure(figsize=(30,10))\n",
        "sns.boxplot(y=df['T1'], x=df['status']) \n"
      ],
      "execution_count": 22,
      "outputs": [
        {
          "output_type": "execute_result",
          "data": {
            "text/plain": [
              "<matplotlib.axes._subplots.AxesSubplot at 0x7f8c21421828>"
            ]
          },
          "metadata": {
            "tags": []
          },
          "execution_count": 22
        },
        {
          "output_type": "display_data",
          "data": {
            "image/png": "[encoded data removed]",
            "text/plain": [
              "<Figure size 1800x360 with 1 Axes>"
            ]
          },
          "metadata": {
            "tags": [],
            "needs_background": "light"
          }
        },
        {
          "output_type": "display_data",
          "data": {
            "image/png": "[encoded data removed]",
            "text/plain": [
              "<Figure size 1224x216 with 1 Axes>"
            ]
          },
          "metadata": {
            "tags": [],
            "needs_background": "light"
          }
        },
        {
          "output_type": "display_data",
          "data": {
            "image/png": "[encoded data removed]",
            "text/plain": [
              "<Figure size 1224x216 with 1 Axes>"
            ]
          },
          "metadata": {
            "tags": [],
            "needs_background": "light"
          }
        },
        {
          "output_type": "display_data",
          "data": {
            "image/png": "[encoded data removed]",
            "text/plain": [
              "<Figure size 1224x216 with 1 Axes>"
            ]
          },
          "metadata": {
            "tags": [],
            "needs_background": "light"
          }
        },
        {
          "output_type": "display_data",
          "data": {
            "image/png": "[encoded data removed]",
            "text/plain": [
              "<Figure size 1224x216 with 1 Axes>"
            ]
          },
          "metadata": {
            "tags": [],
            "needs_background": "light"
          }
        },
        {
          "output_type": "display_data",
          "data": {
            "image/png": "[encoded data removed]",
            "text/plain": [
              "<Figure size 1224x216 with 1 Axes>"
            ]
          },
          "metadata": {
            "tags": [],
            "needs_background": "light"
          }
        },
        {
          "output_type": "display_data",
          "data": {
            "image/png": "[encoded data removed]",
            "text/plain": [
              "<Figure size 1224x216 with 1 Axes>"
            ]
          },
          "metadata": {
            "tags": [],
            "needs_background": "light"
          }
        },
        {
          "output_type": "display_data",
          "data": {
            "image/png": "[encoded data removed]",
            "text/plain": [
              "<Figure size 1224x216 with 1 Axes>"
            ]
          },
          "metadata": {
            "tags": [],
            "needs_background": "light"
          }
        },
        {
          "output_type": "display_data",
          "data": {
            "image/png": "[encoded data removed]",
            "text/plain": [
              "<Figure size 2160x720 with 1 Axes>"
            ]
          },
          "metadata": {
            "tags": [],
            "needs_background": "light"
          }
        }
      ]
    },
    {
      "cell_type": "markdown",
      "metadata": {
        "id": "QBj5aZEEsOD-"
      },
      "source": [
        "Here we see that the risk of developing breast cancer increases with age.\n",
        "(I will still deal with the graphs, this is not the final version)"
      ]
    },
    {
      "cell_type": "markdown",
      "metadata": {
        "id": "_xSA_On6sOEH"
      },
      "source": [
        "Correlation heatmap can give us insight into which variables are important."
      ]
    },
    {
      "cell_type": "code",
      "metadata": {
        "scrolled": false,
        "id": "61iWWScXsOEH",
        "colab": {
          "base_uri": "https://localhost:8080/",
          "height": 655
        },
        "outputId": "f9e7098b-4b44-4c63-8c76-7a13a56292be"
      },
      "source": [
        "sns.heatmap(df.corr(),annot=True,cmap='RdYlGn',linewidths=0) \n",
        "fig=plt.gcf()\n",
        "fig.set_size_inches(15,10)\n",
        "plt.show()\n"
      ],
      "execution_count": 23,
      "outputs": [
        {
          "output_type": "display_data",
          "data": {
            "image/png": "[encoded data removed]",
            "text/plain": [
              "<Figure size 1080x720 with 2 Axes>"
            ]
          },
          "metadata": {
            "tags": [],
            "needs_background": "light"
          }
        }
      ]
    },
    {
      "cell_type": "markdown",
      "metadata": {
        "id": "pcIMqap-JThy"
      },
      "source": [
        "Here we see that the greatest influence on the development of breast cancer is exerted by: the presence of mutations in genes, age, the presence of atypical hyperplasia in the breast."
      ]
    },
    {
      "cell_type": "markdown",
      "metadata": {
        "id": "jJuLc0gZsOES"
      },
      "source": [
        "So, let's draw general conclusions."
      ]
    },
    {
      "cell_type": "code",
      "metadata": {
        "scrolled": true,
        "id": "FYiJH78nsOES",
        "colab": {
          "base_uri": "https://localhost:8080/"
        },
        "outputId": "cd9cecb1-b1dd-49f7-e944-7cfe328602db"
      },
      "source": [
        "df.corrwith(df['status']).sort_values(ascending=False)\n"
      ],
      "execution_count": 24,
      "outputs": [
        {
          "output_type": "execute_result",
          "data": {
            "text/plain": [
              "status           1.000000\n",
              "phx_brca_test    0.249218\n",
              "T1               0.172632\n",
              "N_Biop           0.125769\n",
              "ccr_LCIS         0.037779\n",
              "Age1st           0.024935\n",
              "AgeMen           0.023630\n",
              "N_Rels           0.002162\n",
              "study_id        -0.001401\n",
              "Race            -0.041649\n",
              "HypPlas         -0.202627\n",
              "dtype: float64"
            ]
          },
          "metadata": {
            "tags": []
          },
          "execution_count": 24
        }
      ]
    },
    {
      "cell_type": "markdown",
      "metadata": {
        "id": "-gVgJt-7KbZ4"
      },
      "source": [
        "We looked again at the dependence of status on variables and found out that the greatest 4 influences have: \n",
        "* the presence of a gene mutation BRCA 1 and BRCA 2\n",
        "* the age of the patient. The older, the more likely you are to get breast cancer\n",
        "* A history of breast biopsies\n",
        "* Atypical hyperplasia in the breast."
      ]
    },
    {
      "cell_type": "markdown",
      "metadata": {
        "id": "j-mqV7tSLQHj"
      },
      "source": [
        "#3. Final dataset for modeling"
      ]
    },
    {
      "cell_type": "code",
      "metadata": {
        "id": "OZ52V0fasOEY"
      },
      "source": [
        "X = df[['phx_brca_test', 'ccr_LCIS', 'T1','N_Biop', 'HypPlas', 'AgeMen', 'Age1st', 'N_Rels', 'Race']]\n",
        "y = df[['status']]"
      ],
      "execution_count": 25,
      "outputs": []
    },
    {
      "cell_type": "markdown",
      "metadata": {
        "id": "W1KSUmlusOEc"
      },
      "source": [
        "Dividing the sample into test and training for training and validation."
      ]
    },
    {
      "cell_type": "code",
      "metadata": {
        "id": "2z6fURlNsOEd",
        "colab": {
          "base_uri": "https://localhost:8080/"
        },
        "outputId": "d2c7c740-94e4-46c7-8de0-1bcee37c094b"
      },
      "source": [
        "X_train, X_test, y_train, y_test = train_test_split(X, y)\n",
        "X_train.shape, y_train.shape, X_test.shape, y_train.shape"
      ],
      "execution_count": 26,
      "outputs": [
        {
          "output_type": "execute_result",
          "data": {
            "text/plain": [
              "((10541, 9), (10541, 1), (3514, 9), (10541, 1))"
            ]
          },
          "metadata": {
            "tags": []
          },
          "execution_count": 26
        }
      ]
    },
    {
      "cell_type": "markdown",
      "metadata": {
        "id": "rMamFWZgyPbT"
      },
      "source": [
        "# 4. Modeling"
      ]
    },
    {
      "cell_type": "markdown",
      "metadata": {
        "id": "ZA6Lirygll0Q"
      },
      "source": [
        "##4.1 Evaluate the model"
      ]
    },
    {
      "cell_type": "markdown",
      "metadata": {
        "id": "xvyGHRdbx_9R"
      },
      "source": [
        "The XGClassifier model copes with classification tasks quite well."
      ]
    },
    {
      "cell_type": "code",
      "metadata": {
        "id": "B8fkBFlWsOEh"
      },
      "source": [
        "rgr = XGBClassifier(learning_rate=0.1, n_estimators=140, max_depth=5,\n",
        "                        min_child_weight=3, gamma=0.2, subsample=0.6, colsample_bytree=1.0,\n",
        "                        objective='binary:logistic', nthread=4, scale_pos_weight=1, seed=27)"
      ],
      "execution_count": 27,
      "outputs": []
    },
    {
      "cell_type": "markdown",
      "metadata": {
        "id": "iFrMreT6l5s7"
      },
      "source": [
        "##4.2 Model training"
      ]
    },
    {
      "cell_type": "code",
      "metadata": {
        "id": "XClsCcdlMfVm",
        "colab": {
          "base_uri": "https://localhost:8080/"
        },
        "outputId": "3136ad03-4dbb-456e-ca38-2bd5cea9dece"
      },
      "source": [
        "rgr.fit(X_train, y_train, eval_set=[(X_train, y_train), (X_test, y_test)])"
      ],
      "execution_count": 28,
      "outputs": [
        {
          "output_type": "stream",
          "text": [
            "/usr/local/lib/python3.6/dist-packages/sklearn/preprocessing/_label.py:235: DataConversionWarning: A column-vector y was passed when a 1d array was expected. Please change the shape of y to (n_samples, ), for example using ravel().\n",
            "  y = column_or_1d(y, warn=True)\n",
            "/usr/local/lib/python3.6/dist-packages/sklearn/preprocessing/_label.py:268: DataConversionWarning: A column-vector y was passed when a 1d array was expected. Please change the shape of y to (n_samples, ), for example using ravel().\n",
            "  y = column_or_1d(y, warn=True)\n"
          ],
          "name": "stderr"
        },
        {
          "output_type": "stream",
          "text": [
            "[0]\tvalidation_0-error:0.070392\tvalidation_1-error:0.07029\n",
            "[1]\tvalidation_0-error:0.068684\tvalidation_1-error:0.070006\n",
            "[2]\tvalidation_0-error:0.070297\tvalidation_1-error:0.071713\n",
            "[3]\tvalidation_0-error:0.0684\tvalidation_1-error:0.07029\n",
            "[4]\tvalidation_0-error:0.068115\tvalidation_1-error:0.07029\n",
            "[5]\tvalidation_0-error:0.06802\tvalidation_1-error:0.07029\n",
            "[6]\tvalidation_0-error:0.067925\tvalidation_1-error:0.07029\n",
            "[7]\tvalidation_0-error:0.06802\tvalidation_1-error:0.070575\n",
            "[8]\tvalidation_0-error:0.067736\tvalidation_1-error:0.071429\n",
            "[9]\tvalidation_0-error:0.067451\tvalidation_1-error:0.071429\n",
            "[10]\tvalidation_0-error:0.067546\tvalidation_1-error:0.071429\n",
            "[11]\tvalidation_0-error:0.066692\tvalidation_1-error:0.071713\n",
            "[12]\tvalidation_0-error:0.066597\tvalidation_1-error:0.071429\n",
            "[13]\tvalidation_0-error:0.066692\tvalidation_1-error:0.071144\n",
            "[14]\tvalidation_0-error:0.066123\tvalidation_1-error:0.07029\n",
            "[15]\tvalidation_0-error:0.066123\tvalidation_1-error:0.07029\n",
            "[16]\tvalidation_0-error:0.065933\tvalidation_1-error:0.070006\n",
            "[17]\tvalidation_0-error:0.066312\tvalidation_1-error:0.070859\n",
            "[18]\tvalidation_0-error:0.066123\tvalidation_1-error:0.071429\n",
            "[19]\tvalidation_0-error:0.066787\tvalidation_1-error:0.071144\n",
            "[20]\tvalidation_0-error:0.066123\tvalidation_1-error:0.070859\n",
            "[21]\tvalidation_0-error:0.065933\tvalidation_1-error:0.070859\n",
            "[22]\tvalidation_0-error:0.066028\tvalidation_1-error:0.070859\n",
            "[23]\tvalidation_0-error:0.065933\tvalidation_1-error:0.070006\n",
            "[24]\tvalidation_0-error:0.065459\tvalidation_1-error:0.070859\n",
            "[25]\tvalidation_0-error:0.065554\tvalidation_1-error:0.070859\n",
            "[26]\tvalidation_0-error:0.065174\tvalidation_1-error:0.071429\n",
            "[27]\tvalidation_0-error:0.065459\tvalidation_1-error:0.071144\n",
            "[28]\tvalidation_0-error:0.065459\tvalidation_1-error:0.071713\n",
            "[29]\tvalidation_0-error:0.064795\tvalidation_1-error:0.071713\n",
            "[30]\tvalidation_0-error:0.065174\tvalidation_1-error:0.071998\n",
            "[31]\tvalidation_0-error:0.064984\tvalidation_1-error:0.070859\n",
            "[32]\tvalidation_0-error:0.065079\tvalidation_1-error:0.071144\n",
            "[33]\tvalidation_0-error:0.064984\tvalidation_1-error:0.071429\n",
            "[34]\tvalidation_0-error:0.065269\tvalidation_1-error:0.071144\n",
            "[35]\tvalidation_0-error:0.065364\tvalidation_1-error:0.071144\n",
            "[36]\tvalidation_0-error:0.064795\tvalidation_1-error:0.071144\n",
            "[37]\tvalidation_0-error:0.064795\tvalidation_1-error:0.071429\n",
            "[38]\tvalidation_0-error:0.064225\tvalidation_1-error:0.071998\n",
            "[39]\tvalidation_0-error:0.06432\tvalidation_1-error:0.071713\n",
            "[40]\tvalidation_0-error:0.064225\tvalidation_1-error:0.071713\n",
            "[41]\tvalidation_0-error:0.063941\tvalidation_1-error:0.071713\n",
            "[42]\tvalidation_0-error:0.064036\tvalidation_1-error:0.071713\n",
            "[43]\tvalidation_0-error:0.063941\tvalidation_1-error:0.071998\n",
            "[44]\tvalidation_0-error:0.063941\tvalidation_1-error:0.071429\n",
            "[45]\tvalidation_0-error:0.063182\tvalidation_1-error:0.071713\n",
            "[46]\tvalidation_0-error:0.062992\tvalidation_1-error:0.072282\n",
            "[47]\tvalidation_0-error:0.062992\tvalidation_1-error:0.071998\n",
            "[48]\tvalidation_0-error:0.062992\tvalidation_1-error:0.072282\n",
            "[49]\tvalidation_0-error:0.063277\tvalidation_1-error:0.072567\n",
            "[50]\tvalidation_0-error:0.062897\tvalidation_1-error:0.071998\n",
            "[51]\tvalidation_0-error:0.063182\tvalidation_1-error:0.071998\n",
            "[52]\tvalidation_0-error:0.063277\tvalidation_1-error:0.072282\n",
            "[53]\tvalidation_0-error:0.062992\tvalidation_1-error:0.072567\n",
            "[54]\tvalidation_0-error:0.062802\tvalidation_1-error:0.072567\n",
            "[55]\tvalidation_0-error:0.062518\tvalidation_1-error:0.072851\n",
            "[56]\tvalidation_0-error:0.062328\tvalidation_1-error:0.072567\n",
            "[57]\tvalidation_0-error:0.061664\tvalidation_1-error:0.071998\n",
            "[58]\tvalidation_0-error:0.061474\tvalidation_1-error:0.072567\n",
            "[59]\tvalidation_0-error:0.062043\tvalidation_1-error:0.073136\n",
            "[60]\tvalidation_0-error:0.061949\tvalidation_1-error:0.073421\n",
            "[61]\tvalidation_0-error:0.061474\tvalidation_1-error:0.07399\n",
            "[62]\tvalidation_0-error:0.061664\tvalidation_1-error:0.073705\n",
            "[63]\tvalidation_0-error:0.06119\tvalidation_1-error:0.073421\n",
            "[64]\tvalidation_0-error:0.061474\tvalidation_1-error:0.073705\n",
            "[65]\tvalidation_0-error:0.06081\tvalidation_1-error:0.073421\n",
            "[66]\tvalidation_0-error:0.06062\tvalidation_1-error:0.073705\n",
            "[67]\tvalidation_0-error:0.06062\tvalidation_1-error:0.073421\n",
            "[68]\tvalidation_0-error:0.060715\tvalidation_1-error:0.072851\n",
            "[69]\tvalidation_0-error:0.06062\tvalidation_1-error:0.073705\n",
            "[70]\tvalidation_0-error:0.060431\tvalidation_1-error:0.073421\n",
            "[71]\tvalidation_0-error:0.060336\tvalidation_1-error:0.073136\n",
            "[72]\tvalidation_0-error:0.060241\tvalidation_1-error:0.073705\n",
            "[73]\tvalidation_0-error:0.060431\tvalidation_1-error:0.073421\n",
            "[74]\tvalidation_0-error:0.060241\tvalidation_1-error:0.073136\n",
            "[75]\tvalidation_0-error:0.060241\tvalidation_1-error:0.07399\n",
            "[76]\tvalidation_0-error:0.060336\tvalidation_1-error:0.074559\n",
            "[77]\tvalidation_0-error:0.060241\tvalidation_1-error:0.075128\n",
            "[78]\tvalidation_0-error:0.059861\tvalidation_1-error:0.074274\n",
            "[79]\tvalidation_0-error:0.059672\tvalidation_1-error:0.07399\n",
            "[80]\tvalidation_0-error:0.059482\tvalidation_1-error:0.074274\n",
            "[81]\tvalidation_0-error:0.059577\tvalidation_1-error:0.074843\n",
            "[82]\tvalidation_0-error:0.059482\tvalidation_1-error:0.074559\n",
            "[83]\tvalidation_0-error:0.059292\tvalidation_1-error:0.075128\n",
            "[84]\tvalidation_0-error:0.059387\tvalidation_1-error:0.074843\n",
            "[85]\tvalidation_0-error:0.058818\tvalidation_1-error:0.07399\n",
            "[86]\tvalidation_0-error:0.05768\tvalidation_1-error:0.073421\n",
            "[87]\tvalidation_0-error:0.05768\tvalidation_1-error:0.07399\n",
            "[88]\tvalidation_0-error:0.057585\tvalidation_1-error:0.07399\n",
            "[89]\tvalidation_0-error:0.057585\tvalidation_1-error:0.073705\n",
            "[90]\tvalidation_0-error:0.057774\tvalidation_1-error:0.073136\n",
            "[91]\tvalidation_0-error:0.05749\tvalidation_1-error:0.073136\n",
            "[92]\tvalidation_0-error:0.05749\tvalidation_1-error:0.072282\n",
            "[93]\tvalidation_0-error:0.05749\tvalidation_1-error:0.071998\n",
            "[94]\tvalidation_0-error:0.05711\tvalidation_1-error:0.072282\n",
            "[95]\tvalidation_0-error:0.057395\tvalidation_1-error:0.071998\n",
            "[96]\tvalidation_0-error:0.057395\tvalidation_1-error:0.071998\n",
            "[97]\tvalidation_0-error:0.057205\tvalidation_1-error:0.072567\n",
            "[98]\tvalidation_0-error:0.056921\tvalidation_1-error:0.072567\n",
            "[99]\tvalidation_0-error:0.057015\tvalidation_1-error:0.072282\n",
            "[100]\tvalidation_0-error:0.057205\tvalidation_1-error:0.072567\n",
            "[101]\tvalidation_0-error:0.056826\tvalidation_1-error:0.072851\n",
            "[102]\tvalidation_0-error:0.056921\tvalidation_1-error:0.072851\n",
            "[103]\tvalidation_0-error:0.056826\tvalidation_1-error:0.072567\n",
            "[104]\tvalidation_0-error:0.056636\tvalidation_1-error:0.071998\n",
            "[105]\tvalidation_0-error:0.056541\tvalidation_1-error:0.072567\n",
            "[106]\tvalidation_0-error:0.056067\tvalidation_1-error:0.073421\n",
            "[107]\tvalidation_0-error:0.056257\tvalidation_1-error:0.073705\n",
            "[108]\tvalidation_0-error:0.055972\tvalidation_1-error:0.074274\n",
            "[109]\tvalidation_0-error:0.055877\tvalidation_1-error:0.073705\n",
            "[110]\tvalidation_0-error:0.055972\tvalidation_1-error:0.074274\n",
            "[111]\tvalidation_0-error:0.055972\tvalidation_1-error:0.074559\n",
            "[112]\tvalidation_0-error:0.055782\tvalidation_1-error:0.074274\n",
            "[113]\tvalidation_0-error:0.055592\tvalidation_1-error:0.074274\n",
            "[114]\tvalidation_0-error:0.055498\tvalidation_1-error:0.074843\n",
            "[115]\tvalidation_0-error:0.055498\tvalidation_1-error:0.074843\n",
            "[116]\tvalidation_0-error:0.055498\tvalidation_1-error:0.074559\n",
            "[117]\tvalidation_0-error:0.055498\tvalidation_1-error:0.074274\n",
            "[118]\tvalidation_0-error:0.055023\tvalidation_1-error:0.073705\n",
            "[119]\tvalidation_0-error:0.054928\tvalidation_1-error:0.072282\n",
            "[120]\tvalidation_0-error:0.054739\tvalidation_1-error:0.072567\n",
            "[121]\tvalidation_0-error:0.055213\tvalidation_1-error:0.073705\n",
            "[122]\tvalidation_0-error:0.055308\tvalidation_1-error:0.074559\n",
            "[123]\tvalidation_0-error:0.055118\tvalidation_1-error:0.074559\n",
            "[124]\tvalidation_0-error:0.054834\tvalidation_1-error:0.074274\n",
            "[125]\tvalidation_0-error:0.054549\tvalidation_1-error:0.073421\n",
            "[126]\tvalidation_0-error:0.054644\tvalidation_1-error:0.073705\n",
            "[127]\tvalidation_0-error:0.054359\tvalidation_1-error:0.073705\n",
            "[128]\tvalidation_0-error:0.054359\tvalidation_1-error:0.073705\n",
            "[129]\tvalidation_0-error:0.053885\tvalidation_1-error:0.073705\n",
            "[130]\tvalidation_0-error:0.05398\tvalidation_1-error:0.073136\n",
            "[131]\tvalidation_0-error:0.054169\tvalidation_1-error:0.073136\n",
            "[132]\tvalidation_0-error:0.053885\tvalidation_1-error:0.073136\n",
            "[133]\tvalidation_0-error:0.054075\tvalidation_1-error:0.073136\n",
            "[134]\tvalidation_0-error:0.05398\tvalidation_1-error:0.071998\n",
            "[135]\tvalidation_0-error:0.054359\tvalidation_1-error:0.071429\n",
            "[136]\tvalidation_0-error:0.054075\tvalidation_1-error:0.071998\n",
            "[137]\tvalidation_0-error:0.054359\tvalidation_1-error:0.071998\n",
            "[138]\tvalidation_0-error:0.054454\tvalidation_1-error:0.071998\n",
            "[139]\tvalidation_0-error:0.054359\tvalidation_1-error:0.072567\n"
          ],
          "name": "stdout"
        },
        {
          "output_type": "execute_result",
          "data": {
            "text/plain": [
              "XGBClassifier(base_score=0.5, booster='gbtree', colsample_bylevel=1,\n",
              "              colsample_bynode=1, colsample_bytree=1.0, gamma=0.2,\n",
              "              learning_rate=0.1, max_delta_step=0, max_depth=5,\n",
              "              min_child_weight=3, missing=None, n_estimators=140, n_jobs=1,\n",
              "              nthread=4, objective='binary:logistic', random_state=0,\n",
              "              reg_alpha=0, reg_lambda=1, scale_pos_weight=1, seed=27,\n",
              "              silent=None, subsample=0.6, verbosity=1)"
            ]
          },
          "metadata": {
            "tags": []
          },
          "execution_count": 28
        }
      ]
    },
    {
      "cell_type": "markdown",
      "metadata": {
        "id": "lo0VSr5Amb9U"
      },
      "source": [
        "#5. Evaluation"
      ]
    },
    {
      "cell_type": "markdown",
      "metadata": {
        "id": "D4mGAAtLO4WE"
      },
      "source": [
        "We are now going to evaluate the model. Let's use the automatic grade selection function."
      ]
    },
    {
      "cell_type": "code",
      "metadata": {
        "id": "KRIuWQGmPIBc"
      },
      "source": [
        "def score(clf, x_train, x_test, y_train, y_test):\n",
        "    try:\n",
        "        y_pred_train, y_pred_test = clf.predict_proba(x_train)[:, 1], clf.predict_proba(x_test)[:, 1]\n",
        "        print(f'Train-test roc auc: {roc_auc_score(y_train.astype(bool), y_pred_train)}, {roc_auc_score(y_test.astype(bool), y_pred_test)}')\n",
        "    except AttributeError:\n",
        "        y_pred_train, y_pred_test = clf.predict(x_train), clf.predict(x_test)\n",
        "        print(f'Train-test r2 score: {r2_score(y_train, y_pred_train)}, {r2_score(y_test, y_pred_test)}')"
      ],
      "execution_count": 29,
      "outputs": []
    },
    {
      "cell_type": "code",
      "metadata": {
        "id": "2psPkYD-Me4K",
        "colab": {
          "base_uri": "https://localhost:8080/"
        },
        "outputId": "328d65bc-382c-42c9-af0f-6dc7fa24353e"
      },
      "source": [
        "score(rgr, X_train, X_test, y_train, y_test)"
      ],
      "execution_count": 30,
      "outputs": [
        {
          "output_type": "stream",
          "text": [
            "Train-test roc auc: 0.9412682233570039, 0.9102959463089575\n"
          ],
          "name": "stdout"
        }
      ]
    },
    {
      "cell_type": "markdown",
      "metadata": {
        "id": "1OwGLBNUQqXe"
      },
      "source": [
        "Our model has shown a good result. "
      ]
    },
    {
      "cell_type": "code",
      "metadata": {
        "id": "hmmXmGcZhDs_",
        "colab": {
          "base_uri": "https://localhost:8080/"
        },
        "outputId": "f9e7460d-9410-4b64-db2d-b0c021c23f9b"
      },
      "source": [
        "df['T1'].mean()"
      ],
      "execution_count": 31,
      "outputs": [
        {
          "output_type": "execute_result",
          "data": {
            "text/plain": [
              "55.158306652436856"
            ]
          },
          "metadata": {
            "tags": []
          },
          "execution_count": 31
        }
      ]
    },
    {
      "cell_type": "markdown",
      "metadata": {
        "id": "jpj1diJ7hcGU"
      },
      "source": [
        "mean"
      ]
    },
    {
      "cell_type": "code",
      "metadata": {
        "id": "sVlsg18Tho5T",
        "colab": {
          "base_uri": "https://localhost:8080/"
        },
        "outputId": "ce683ab8-0fdd-45a4-a6e2-018c9ba736e5"
      },
      "source": [
        "df['T1'].std()"
      ],
      "execution_count": 32,
      "outputs": [
        {
          "output_type": "execute_result",
          "data": {
            "text/plain": [
              "11.651419186913893"
            ]
          },
          "metadata": {
            "tags": []
          },
          "execution_count": 32
        }
      ]
    },
    {
      "cell_type": "code",
      "metadata": {
        "id": "ivCGhMIzhsix",
        "colab": {
          "base_uri": "https://localhost:8080/"
        },
        "outputId": "0da744be-ae2d-428a-b57d-7146a5576e97"
      },
      "source": [
        "df['N_Biop'].std()"
      ],
      "execution_count": 33,
      "outputs": [
        {
          "output_type": "execute_result",
          "data": {
            "text/plain": [
              "30.7242876789007"
            ]
          },
          "metadata": {
            "tags": []
          },
          "execution_count": 33
        }
      ]
    },
    {
      "cell_type": "markdown",
      "metadata": {
        "id": "5KXbjiUgh-Sd"
      },
      "source": [
        "Visualize features"
      ]
    },
    {
      "cell_type": "code",
      "metadata": {
        "id": "zLozrdRyh4Om",
        "colab": {
          "base_uri": "https://localhost:8080/",
          "height": 1000
        },
        "outputId": "2a1b5ced-91c3-4c73-91c1-c91d8b5f9d65"
      },
      "source": [
        "def plot_model_var_imp( model , X , y ):\n",
        "    imp = pd.DataFrame( \n",
        "        model.feature_importances_  , \n",
        "        columns = [ 'Importance' ] , \n",
        "        index = X.columns \n",
        "    )\n",
        "    imp = imp.sort_values( [ 'Importance' ] , ascending = True )\n",
        "    imp[ : 10 ].plot( kind = 'barh' )\n",
        "    print (model.score( X , y ))\n",
        "\n",
        "def plot_variable_importance( X , y ):\n",
        "    rgr.fit(X_train, y_train, eval_set=[(X_train, y_train), (X_test, y_test)])\n",
        "    plot_model_var_imp( rgr , X , y )\n",
        "    \n",
        "plot_variable_importance(X_train, y_train)"
      ],
      "execution_count": 34,
      "outputs": [
        {
          "output_type": "stream",
          "text": [
            "[0]\tvalidation_0-error:0.070392\tvalidation_1-error:0.07029\n",
            "[1]\tvalidation_0-error:0.068684\tvalidation_1-error:0.070006\n",
            "[2]\tvalidation_0-error:0.070297\tvalidation_1-error:0.071713\n",
            "[3]\tvalidation_0-error:0.0684\tvalidation_1-error:0.07029\n",
            "[4]\tvalidation_0-error:0.068115\tvalidation_1-error:0.07029\n",
            "[5]\tvalidation_0-error:0.06802\tvalidation_1-error:0.07029\n",
            "[6]\tvalidation_0-error:0.067925\tvalidation_1-error:0.07029\n",
            "[7]\tvalidation_0-error:0.06802\tvalidation_1-error:0.070575\n",
            "[8]\tvalidation_0-error:0.067736\tvalidation_1-error:0.071429\n",
            "[9]\tvalidation_0-error:0.067451\tvalidation_1-error:0.071429\n"
          ],
          "name": "stdout"
        },
        {
          "output_type": "stream",
          "text": [
            "/usr/local/lib/python3.6/dist-packages/sklearn/preprocessing/_label.py:235: DataConversionWarning: A column-vector y was passed when a 1d array was expected. Please change the shape of y to (n_samples, ), for example using ravel().\n",
            "  y = column_or_1d(y, warn=True)\n",
            "/usr/local/lib/python3.6/dist-packages/sklearn/preprocessing/_label.py:268: DataConversionWarning: A column-vector y was passed when a 1d array was expected. Please change the shape of y to (n_samples, ), for example using ravel().\n",
            "  y = column_or_1d(y, warn=True)\n"
          ],
          "name": "stderr"
        },
        {
          "output_type": "stream",
          "text": [
            "[10]\tvalidation_0-error:0.067546\tvalidation_1-error:0.071429\n",
            "[11]\tvalidation_0-error:0.066692\tvalidation_1-error:0.071713\n",
            "[12]\tvalidation_0-error:0.066597\tvalidation_1-error:0.071429\n",
            "[13]\tvalidation_0-error:0.066692\tvalidation_1-error:0.071144\n",
            "[14]\tvalidation_0-error:0.066123\tvalidation_1-error:0.07029\n",
            "[15]\tvalidation_0-error:0.066123\tvalidation_1-error:0.07029\n",
            "[16]\tvalidation_0-error:0.065933\tvalidation_1-error:0.070006\n",
            "[17]\tvalidation_0-error:0.066312\tvalidation_1-error:0.070859\n",
            "[18]\tvalidation_0-error:0.066123\tvalidation_1-error:0.071429\n",
            "[19]\tvalidation_0-error:0.066787\tvalidation_1-error:0.071144\n",
            "[20]\tvalidation_0-error:0.066123\tvalidation_1-error:0.070859\n",
            "[21]\tvalidation_0-error:0.065933\tvalidation_1-error:0.070859\n",
            "[22]\tvalidation_0-error:0.066028\tvalidation_1-error:0.070859\n",
            "[23]\tvalidation_0-error:0.065933\tvalidation_1-error:0.070006\n",
            "[24]\tvalidation_0-error:0.065459\tvalidation_1-error:0.070859\n",
            "[25]\tvalidation_0-error:0.065554\tvalidation_1-error:0.070859\n",
            "[26]\tvalidation_0-error:0.065174\tvalidation_1-error:0.071429\n",
            "[27]\tvalidation_0-error:0.065459\tvalidation_1-error:0.071144\n",
            "[28]\tvalidation_0-error:0.065459\tvalidation_1-error:0.071713\n",
            "[29]\tvalidation_0-error:0.064795\tvalidation_1-error:0.071713\n",
            "[30]\tvalidation_0-error:0.065174\tvalidation_1-error:0.071998\n",
            "[31]\tvalidation_0-error:0.064984\tvalidation_1-error:0.070859\n",
            "[32]\tvalidation_0-error:0.065079\tvalidation_1-error:0.071144\n",
            "[33]\tvalidation_0-error:0.064984\tvalidation_1-error:0.071429\n",
            "[34]\tvalidation_0-error:0.065269\tvalidation_1-error:0.071144\n",
            "[35]\tvalidation_0-error:0.065364\tvalidation_1-error:0.071144\n",
            "[36]\tvalidation_0-error:0.064795\tvalidation_1-error:0.071144\n",
            "[37]\tvalidation_0-error:0.064795\tvalidation_1-error:0.071429\n",
            "[38]\tvalidation_0-error:0.064225\tvalidation_1-error:0.071998\n",
            "[39]\tvalidation_0-error:0.06432\tvalidation_1-error:0.071713\n",
            "[40]\tvalidation_0-error:0.064225\tvalidation_1-error:0.071713\n",
            "[41]\tvalidation_0-error:0.063941\tvalidation_1-error:0.071713\n",
            "[42]\tvalidation_0-error:0.064036\tvalidation_1-error:0.071713\n",
            "[43]\tvalidation_0-error:0.063941\tvalidation_1-error:0.071998\n",
            "[44]\tvalidation_0-error:0.063941\tvalidation_1-error:0.071429\n",
            "[45]\tvalidation_0-error:0.063182\tvalidation_1-error:0.071713\n",
            "[46]\tvalidation_0-error:0.062992\tvalidation_1-error:0.072282\n",
            "[47]\tvalidation_0-error:0.062992\tvalidation_1-error:0.071998\n",
            "[48]\tvalidation_0-error:0.062992\tvalidation_1-error:0.072282\n",
            "[49]\tvalidation_0-error:0.063277\tvalidation_1-error:0.072567\n",
            "[50]\tvalidation_0-error:0.062897\tvalidation_1-error:0.071998\n",
            "[51]\tvalidation_0-error:0.063182\tvalidation_1-error:0.071998\n",
            "[52]\tvalidation_0-error:0.063277\tvalidation_1-error:0.072282\n",
            "[53]\tvalidation_0-error:0.062992\tvalidation_1-error:0.072567\n",
            "[54]\tvalidation_0-error:0.062802\tvalidation_1-error:0.072567\n",
            "[55]\tvalidation_0-error:0.062518\tvalidation_1-error:0.072851\n",
            "[56]\tvalidation_0-error:0.062328\tvalidation_1-error:0.072567\n",
            "[57]\tvalidation_0-error:0.061664\tvalidation_1-error:0.071998\n",
            "[58]\tvalidation_0-error:0.061474\tvalidation_1-error:0.072567\n",
            "[59]\tvalidation_0-error:0.062043\tvalidation_1-error:0.073136\n",
            "[60]\tvalidation_0-error:0.061949\tvalidation_1-error:0.073421\n",
            "[61]\tvalidation_0-error:0.061474\tvalidation_1-error:0.07399\n",
            "[62]\tvalidation_0-error:0.061664\tvalidation_1-error:0.073705\n",
            "[63]\tvalidation_0-error:0.06119\tvalidation_1-error:0.073421\n",
            "[64]\tvalidation_0-error:0.061474\tvalidation_1-error:0.073705\n",
            "[65]\tvalidation_0-error:0.06081\tvalidation_1-error:0.073421\n",
            "[66]\tvalidation_0-error:0.06062\tvalidation_1-error:0.073705\n",
            "[67]\tvalidation_0-error:0.06062\tvalidation_1-error:0.073421\n",
            "[68]\tvalidation_0-error:0.060715\tvalidation_1-error:0.072851\n",
            "[69]\tvalidation_0-error:0.06062\tvalidation_1-error:0.073705\n",
            "[70]\tvalidation_0-error:0.060431\tvalidation_1-error:0.073421\n",
            "[71]\tvalidation_0-error:0.060336\tvalidation_1-error:0.073136\n",
            "[72]\tvalidation_0-error:0.060241\tvalidation_1-error:0.073705\n",
            "[73]\tvalidation_0-error:0.060431\tvalidation_1-error:0.073421\n",
            "[74]\tvalidation_0-error:0.060241\tvalidation_1-error:0.073136\n",
            "[75]\tvalidation_0-error:0.060241\tvalidation_1-error:0.07399\n",
            "[76]\tvalidation_0-error:0.060336\tvalidation_1-error:0.074559\n",
            "[77]\tvalidation_0-error:0.060241\tvalidation_1-error:0.075128\n",
            "[78]\tvalidation_0-error:0.059861\tvalidation_1-error:0.074274\n",
            "[79]\tvalidation_0-error:0.059672\tvalidation_1-error:0.07399\n",
            "[80]\tvalidation_0-error:0.059482\tvalidation_1-error:0.074274\n",
            "[81]\tvalidation_0-error:0.059577\tvalidation_1-error:0.074843\n",
            "[82]\tvalidation_0-error:0.059482\tvalidation_1-error:0.074559\n",
            "[83]\tvalidation_0-error:0.059292\tvalidation_1-error:0.075128\n",
            "[84]\tvalidation_0-error:0.059387\tvalidation_1-error:0.074843\n",
            "[85]\tvalidation_0-error:0.058818\tvalidation_1-error:0.07399\n",
            "[86]\tvalidation_0-error:0.05768\tvalidation_1-error:0.073421\n",
            "[87]\tvalidation_0-error:0.05768\tvalidation_1-error:0.07399\n",
            "[88]\tvalidation_0-error:0.057585\tvalidation_1-error:0.07399\n",
            "[89]\tvalidation_0-error:0.057585\tvalidation_1-error:0.073705\n",
            "[90]\tvalidation_0-error:0.057774\tvalidation_1-error:0.073136\n",
            "[91]\tvalidation_0-error:0.05749\tvalidation_1-error:0.073136\n",
            "[92]\tvalidation_0-error:0.05749\tvalidation_1-error:0.072282\n",
            "[93]\tvalidation_0-error:0.05749\tvalidation_1-error:0.071998\n",
            "[94]\tvalidation_0-error:0.05711\tvalidation_1-error:0.072282\n",
            "[95]\tvalidation_0-error:0.057395\tvalidation_1-error:0.071998\n",
            "[96]\tvalidation_0-error:0.057395\tvalidation_1-error:0.071998\n",
            "[97]\tvalidation_0-error:0.057205\tvalidation_1-error:0.072567\n",
            "[98]\tvalidation_0-error:0.056921\tvalidation_1-error:0.072567\n",
            "[99]\tvalidation_0-error:0.057015\tvalidation_1-error:0.072282\n",
            "[100]\tvalidation_0-error:0.057205\tvalidation_1-error:0.072567\n",
            "[101]\tvalidation_0-error:0.056826\tvalidation_1-error:0.072851\n",
            "[102]\tvalidation_0-error:0.056921\tvalidation_1-error:0.072851\n",
            "[103]\tvalidation_0-error:0.056826\tvalidation_1-error:0.072567\n",
            "[104]\tvalidation_0-error:0.056636\tvalidation_1-error:0.071998\n",
            "[105]\tvalidation_0-error:0.056541\tvalidation_1-error:0.072567\n",
            "[106]\tvalidation_0-error:0.056067\tvalidation_1-error:0.073421\n",
            "[107]\tvalidation_0-error:0.056257\tvalidation_1-error:0.073705\n",
            "[108]\tvalidation_0-error:0.055972\tvalidation_1-error:0.074274\n",
            "[109]\tvalidation_0-error:0.055877\tvalidation_1-error:0.073705\n",
            "[110]\tvalidation_0-error:0.055972\tvalidation_1-error:0.074274\n",
            "[111]\tvalidation_0-error:0.055972\tvalidation_1-error:0.074559\n",
            "[112]\tvalidation_0-error:0.055782\tvalidation_1-error:0.074274\n",
            "[113]\tvalidation_0-error:0.055592\tvalidation_1-error:0.074274\n",
            "[114]\tvalidation_0-error:0.055498\tvalidation_1-error:0.074843\n",
            "[115]\tvalidation_0-error:0.055498\tvalidation_1-error:0.074843\n",
            "[116]\tvalidation_0-error:0.055498\tvalidation_1-error:0.074559\n",
            "[117]\tvalidation_0-error:0.055498\tvalidation_1-error:0.074274\n",
            "[118]\tvalidation_0-error:0.055023\tvalidation_1-error:0.073705\n",
            "[119]\tvalidation_0-error:0.054928\tvalidation_1-error:0.072282\n",
            "[120]\tvalidation_0-error:0.054739\tvalidation_1-error:0.072567\n",
            "[121]\tvalidation_0-error:0.055213\tvalidation_1-error:0.073705\n",
            "[122]\tvalidation_0-error:0.055308\tvalidation_1-error:0.074559\n",
            "[123]\tvalidation_0-error:0.055118\tvalidation_1-error:0.074559\n",
            "[124]\tvalidation_0-error:0.054834\tvalidation_1-error:0.074274\n",
            "[125]\tvalidation_0-error:0.054549\tvalidation_1-error:0.073421\n",
            "[126]\tvalidation_0-error:0.054644\tvalidation_1-error:0.073705\n",
            "[127]\tvalidation_0-error:0.054359\tvalidation_1-error:0.073705\n",
            "[128]\tvalidation_0-error:0.054359\tvalidation_1-error:0.073705\n",
            "[129]\tvalidation_0-error:0.053885\tvalidation_1-error:0.073705\n",
            "[130]\tvalidation_0-error:0.05398\tvalidation_1-error:0.073136\n",
            "[131]\tvalidation_0-error:0.054169\tvalidation_1-error:0.073136\n",
            "[132]\tvalidation_0-error:0.053885\tvalidation_1-error:0.073136\n",
            "[133]\tvalidation_0-error:0.054075\tvalidation_1-error:0.073136\n",
            "[134]\tvalidation_0-error:0.05398\tvalidation_1-error:0.071998\n",
            "[135]\tvalidation_0-error:0.054359\tvalidation_1-error:0.071429\n",
            "[136]\tvalidation_0-error:0.054075\tvalidation_1-error:0.071998\n",
            "[137]\tvalidation_0-error:0.054359\tvalidation_1-error:0.071998\n",
            "[138]\tvalidation_0-error:0.054454\tvalidation_1-error:0.071998\n",
            "[139]\tvalidation_0-error:0.054359\tvalidation_1-error:0.072567\n",
            "0.9456408310406982\n"
          ],
          "name": "stdout"
        },
        {
          "output_type": "display_data",
          "data": {
            "image/png": "[encoded data removed]",
            "text/plain": [
              "<Figure size 432x288 with 1 Axes>"
            ]
          },
          "metadata": {
            "tags": [],
            "needs_background": "light"
          }
        }
      ]
    },
    {
      "cell_type": "markdown",
      "metadata": {
        "id": "x3I6QRh1n4y7"
      },
      "source": [
        "N_Biop имеет важность почти 40% - см график\n",
        "phx_bca_test - 27%,\n",
        "HypPlas - около 10%\n",
        "остальные см по графику также (1 - это 100%)"
      ]
    }
  ]
}